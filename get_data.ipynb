{
 "cells": [
  {
   "cell_type": "code",
   "execution_count": 10,
   "metadata": {},
   "outputs": [],
   "source": [
    "import okx.MarketData as MarketData\n",
    "import csv\n",
    "from ultils import *"
   ]
  },
  {
   "cell_type": "code",
   "execution_count": 11,
   "metadata": {},
   "outputs": [],
   "source": [
    "flag = \"0\"  # Production trading:0 , demo trading:1\n",
    "marketDataAPI =  MarketData.MarketAPI(flag=flag)"
   ]
  },
  {
   "cell_type": "markdown",
   "metadata": {},
   "source": [
    "### input of API is here"
   ]
  },
  {
   "cell_type": "code",
   "execution_count": 22,
   "metadata": {},
   "outputs": [],
   "source": [
    "# From date and to date\n",
    "before = \"2021-12-30 00:00:00.0\" # from\n",
    "after = \"2022-01-01 00:00:00.0\" # to \n",
    "id = \"BTC-USDT\" # kind of coin\n",
    "bar = '1m' # kind of bar"
   ]
  },
  {
   "cell_type": "code",
   "execution_count": 23,
   "metadata": {},
   "outputs": [],
   "source": [
    "# Convert to miliseconds\n",
    "before = datetime_to_ms(before)\n",
    "after = datetime_to_ms(after)\n",
    "\n",
    "# Retrieve history candlestick charts from recent years\n",
    "def get_candlesticks(instId, start_ms, end_ms, bar):\n",
    "    try:\n",
    "        result = marketDataAPI.get_history_candlesticks(\n",
    "            instId=instId,\n",
    "            after=(start_ms),\n",
    "            before=(end_ms),\n",
    "            bar=bar,\n",
    "        )\n",
    "        return result\n",
    "    except Exception as e:\n",
    "        print(f\"Error: {e}\")\n",
    "        return None\n"
   ]
  },
  {
   "cell_type": "markdown",
   "metadata": {},
   "source": [
    "### run API and save to CSV"
   ]
  },
  {
   "cell_type": "code",
   "execution_count": 24,
   "metadata": {},
   "outputs": [
    {
     "name": "stdout",
     "output_type": "stream",
     "text": [
      "header:  {'Content-Type': 'application/json', 'x-simulated-trading': '0'}\n",
      "domain: https://www.okx.com\n",
      "url: /api/v5/market/history-candles?instId=BTC-USDT&after=1640970000000&before=1640797200000&bar=1m\n",
      "header:  {'Content-Type': 'application/json', 'x-simulated-trading': '0'}\n",
      "domain: https://www.okx.com\n",
      "url: /api/v5/market/history-candles?instId=BTC-USDT&after=1640964000000&before=1640797200000&bar=1m\n",
      "header:  {'Content-Type': 'application/json', 'x-simulated-trading': '0'}\n",
      "domain: https://www.okx.com\n",
      "url: /api/v5/market/history-candles?instId=BTC-USDT&after=1640958000000&before=1640797200000&bar=1m\n",
      "header:  {'Content-Type': 'application/json', 'x-simulated-trading': '0'}\n",
      "domain: https://www.okx.com\n",
      "url: /api/v5/market/history-candles?instId=BTC-USDT&after=1640952000000&before=1640797200000&bar=1m\n",
      "header:  {'Content-Type': 'application/json', 'x-simulated-trading': '0'}\n",
      "domain: https://www.okx.com\n",
      "url: /api/v5/market/history-candles?instId=BTC-USDT&after=1640946000000&before=1640797200000&bar=1m\n",
      "header:  {'Content-Type': 'application/json', 'x-simulated-trading': '0'}\n",
      "domain: https://www.okx.com\n",
      "url: /api/v5/market/history-candles?instId=BTC-USDT&after=1640940000000&before=1640797200000&bar=1m\n",
      "header:  {'Content-Type': 'application/json', 'x-simulated-trading': '0'}\n",
      "domain: https://www.okx.com\n",
      "url: /api/v5/market/history-candles?instId=BTC-USDT&after=1640934000000&before=1640797200000&bar=1m\n",
      "header:  {'Content-Type': 'application/json', 'x-simulated-trading': '0'}\n",
      "domain: https://www.okx.com\n",
      "url: /api/v5/market/history-candles?instId=BTC-USDT&after=1640928000000&before=1640797200000&bar=1m\n",
      "header:  {'Content-Type': 'application/json', 'x-simulated-trading': '0'}\n",
      "domain: https://www.okx.com\n",
      "url: /api/v5/market/history-candles?instId=BTC-USDT&after=1640922000000&before=1640797200000&bar=1m\n",
      "header:  {'Content-Type': 'application/json', 'x-simulated-trading': '0'}\n",
      "domain: https://www.okx.com\n",
      "url: /api/v5/market/history-candles?instId=BTC-USDT&after=1640916000000&before=1640797200000&bar=1m\n",
      "header:  {'Content-Type': 'application/json', 'x-simulated-trading': '0'}\n",
      "domain: https://www.okx.com\n",
      "url: /api/v5/market/history-candles?instId=BTC-USDT&after=1640910000000&before=1640797200000&bar=1m\n",
      "header:  {'Content-Type': 'application/json', 'x-simulated-trading': '0'}\n",
      "domain: https://www.okx.com\n",
      "url: /api/v5/market/history-candles?instId=BTC-USDT&after=1640904000000&before=1640797200000&bar=1m\n",
      "header:  {'Content-Type': 'application/json', 'x-simulated-trading': '0'}\n",
      "domain: https://www.okx.com\n",
      "url: /api/v5/market/history-candles?instId=BTC-USDT&after=1640898000000&before=1640797200000&bar=1m\n",
      "header:  {'Content-Type': 'application/json', 'x-simulated-trading': '0'}\n",
      "domain: https://www.okx.com\n",
      "url: /api/v5/market/history-candles?instId=BTC-USDT&after=1640892000000&before=1640797200000&bar=1m\n",
      "header:  {'Content-Type': 'application/json', 'x-simulated-trading': '0'}\n",
      "domain: https://www.okx.com\n",
      "url: /api/v5/market/history-candles?instId=BTC-USDT&after=1640886000000&before=1640797200000&bar=1m\n",
      "header:  {'Content-Type': 'application/json', 'x-simulated-trading': '0'}\n",
      "domain: https://www.okx.com\n",
      "url: /api/v5/market/history-candles?instId=BTC-USDT&after=1640880000000&before=1640797200000&bar=1m\n",
      "header:  {'Content-Type': 'application/json', 'x-simulated-trading': '0'}\n",
      "domain: https://www.okx.com\n",
      "url: /api/v5/market/history-candles?instId=BTC-USDT&after=1640874000000&before=1640797200000&bar=1m\n",
      "header:  {'Content-Type': 'application/json', 'x-simulated-trading': '0'}\n",
      "domain: https://www.okx.com\n",
      "url: /api/v5/market/history-candles?instId=BTC-USDT&after=1640868000000&before=1640797200000&bar=1m\n",
      "header:  {'Content-Type': 'application/json', 'x-simulated-trading': '0'}\n",
      "domain: https://www.okx.com\n",
      "url: /api/v5/market/history-candles?instId=BTC-USDT&after=1640862000000&before=1640797200000&bar=1m\n",
      "header:  {'Content-Type': 'application/json', 'x-simulated-trading': '0'}\n",
      "domain: https://www.okx.com\n",
      "url: /api/v5/market/history-candles?instId=BTC-USDT&after=1640856000000&before=1640797200000&bar=1m\n",
      "header:  {'Content-Type': 'application/json', 'x-simulated-trading': '0'}\n",
      "domain: https://www.okx.com\n",
      "url: /api/v5/market/history-candles?instId=BTC-USDT&after=1640850000000&before=1640797200000&bar=1m\n",
      "header:  {'Content-Type': 'application/json', 'x-simulated-trading': '0'}\n",
      "domain: https://www.okx.com\n",
      "url: /api/v5/market/history-candles?instId=BTC-USDT&after=1640844000000&before=1640797200000&bar=1m\n",
      "header:  {'Content-Type': 'application/json', 'x-simulated-trading': '0'}\n",
      "domain: https://www.okx.com\n",
      "url: /api/v5/market/history-candles?instId=BTC-USDT&after=1640838000000&before=1640797200000&bar=1m\n",
      "header:  {'Content-Type': 'application/json', 'x-simulated-trading': '0'}\n",
      "domain: https://www.okx.com\n",
      "url: /api/v5/market/history-candles?instId=BTC-USDT&after=1640832000000&before=1640797200000&bar=1m\n",
      "header:  {'Content-Type': 'application/json', 'x-simulated-trading': '0'}\n",
      "domain: https://www.okx.com\n",
      "url: /api/v5/market/history-candles?instId=BTC-USDT&after=1640826000000&before=1640797200000&bar=1m\n",
      "header:  {'Content-Type': 'application/json', 'x-simulated-trading': '0'}\n",
      "domain: https://www.okx.com\n",
      "url: /api/v5/market/history-candles?instId=BTC-USDT&after=1640820000000&before=1640797200000&bar=1m\n",
      "header:  {'Content-Type': 'application/json', 'x-simulated-trading': '0'}\n",
      "domain: https://www.okx.com\n",
      "url: /api/v5/market/history-candles?instId=BTC-USDT&after=1640814000000&before=1640797200000&bar=1m\n",
      "header:  {'Content-Type': 'application/json', 'x-simulated-trading': '0'}\n",
      "domain: https://www.okx.com\n",
      "url: /api/v5/market/history-candles?instId=BTC-USDT&after=1640808000000&before=1640797200000&bar=1m\n",
      "header:  {'Content-Type': 'application/json', 'x-simulated-trading': '0'}\n",
      "domain: https://www.okx.com\n",
      "url: /api/v5/market/history-candles?instId=BTC-USDT&after=1640802000000&before=1640797200000&bar=1m\n"
     ]
    }
   ],
   "source": [
    "# Get history candlesticks\n",
    "# Schedule to run the script every 10 times per second\n",
    "result_all = []\n",
    "while after - before >= 5940000:\n",
    "    result = get_candlesticks(id, after, before, bar)\n",
    "    result_all.append(result)\n",
    "    after = after - 5940000 - 60000\n",
    "\n",
    "result = get_candlesticks(id, after, before, bar)\n",
    "result_all.append(result)\n",
    "\n",
    "\n",
    "# Save data to CSV file\n",
    "csv_file_path = f\"data_{before}_{after}.csv\"\n",
    "# Define CSV field names\n",
    "fieldnames = ['ts', 'o', 'h', 'l', 'c', 'vol', 'volCcy', 'volCcyQuote', 'confirm']\n",
    "\n",
    "with open(csv_file_path, 'w', newline='') as csvfile:\n",
    "    writer = csv.DictWriter(csvfile, fieldnames=fieldnames)\n",
    "    writer.writeheader()\n",
    "    \n",
    "    for item in result_all:\n",
    "        \n",
    "        for entry in item['data']:\n",
    "            row = {\n",
    "                'ts': entry[0],\n",
    "                'o': entry[1],\n",
    "                'h': entry[2],\n",
    "                'l': entry[3],\n",
    "                'c': entry[4],\n",
    "                'vol': entry[5],\n",
    "                'volCcy': entry[6],\n",
    "                'volCcyQuote': entry[7],\n",
    "                'confirm': entry[8]\n",
    "            }\n",
    "            writer.writerow(row)"
   ]
  }
 ],
 "metadata": {
  "kernelspec": {
   "display_name": "Python 3",
   "language": "python",
   "name": "python3"
  },
  "language_info": {
   "codemirror_mode": {
    "name": "ipython",
    "version": 3
   },
   "file_extension": ".py",
   "mimetype": "text/x-python",
   "name": "python",
   "nbconvert_exporter": "python",
   "pygments_lexer": "ipython3",
   "version": "3.10.12"
  }
 },
 "nbformat": 4,
 "nbformat_minor": 2
}
